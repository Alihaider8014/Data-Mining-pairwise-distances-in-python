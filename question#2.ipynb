{
 "cells": [
  {
   "cell_type": "code",
   "execution_count": 1,
   "metadata": {},
   "outputs": [],
   "source": [
    "import numpy as np\n",
    "import pandas as pd"
   ]
  },
  {
   "cell_type": "code",
   "execution_count": 2,
   "metadata": {},
   "outputs": [],
   "source": [
    "#take matrix\n",
    "matrix = ([[1.5,1.7,2.5],[2,1.9,2.9],[1.6,1.8,2.0],[1.2,1.5,1.7],[1.0,1.6,3.0]])"
   ]
  },
  {
   "cell_type": "code",
   "execution_count": 3,
   "metadata": {},
   "outputs": [
    {
     "data": {
      "text/plain": [
       "array([[1.5, 1.7, 2.5],\n",
       "       [2. , 1.9, 2.9],\n",
       "       [1.6, 1.8, 2. ],\n",
       "       [1.2, 1.5, 1.7],\n",
       "       [1. , 1.6, 3. ]])"
      ]
     },
     "execution_count": 3,
     "metadata": {},
     "output_type": "execute_result"
    }
   ],
   "source": [
    "#convet matrix into array\n",
    "np.array(matrix)"
   ]
  },
  {
   "cell_type": "code",
   "execution_count": 14,
   "metadata": {},
   "outputs": [],
   "source": [
    "#For_Euclidean\n",
    "from sklearn.metrics.pairwise import euclidean_distances"
   ]
  },
  {
   "cell_type": "code",
   "execution_count": 15,
   "metadata": {},
   "outputs": [
    {
     "data": {
      "text/plain": [
       "array([[0.        , 0.67082039, 0.51961524, 0.87749644, 0.71414284],\n",
       "       [0.67082039, 0.        , 0.98994949, 1.49666295, 1.04880885],\n",
       "       [0.51961524, 0.98994949, 0.        , 0.58309519, 1.18321596],\n",
       "       [0.87749644, 1.49666295, 0.58309519, 0.        , 1.3190906 ],\n",
       "       [0.71414284, 1.04880885, 1.18321596, 1.3190906 , 0.        ]])"
      ]
     },
     "execution_count": 15,
     "metadata": {},
     "output_type": "execute_result"
    }
   ],
   "source": [
    "#these show the euclidean of teh matrix\n",
    "euclidean_distances(matrix)"
   ]
  },
  {
   "cell_type": "code",
   "execution_count": 16,
   "metadata": {},
   "outputs": [],
   "source": [
    "# For_Manhattan\n",
    "from scipy.spatial.distance import cdist"
   ]
  },
  {
   "cell_type": "code",
   "execution_count": 24,
   "metadata": {},
   "outputs": [
    {
     "name": "stdout",
     "output_type": "stream",
     "text": [
      "[[0.  1.1 0.7 1.3 1.1]\n",
      " [1.1 0.  1.4 2.4 1.4]\n",
      " [0.7 1.4 0.  1.  1.8]\n",
      " [1.3 2.4 1.  0.  1.6]\n",
      " [1.1 1.4 1.8 1.6 0. ]]\n"
     ]
    }
   ],
   "source": [
    "#these show the manhattan \n",
    "print(cdist(matrix, matrix, metric='cityblock'))"
   ]
  },
  {
   "cell_type": "code",
   "execution_count": null,
   "metadata": {},
   "outputs": [],
   "source": []
  }
 ],
 "metadata": {
  "kernelspec": {
   "display_name": "Python 3",
   "language": "python",
   "name": "python3"
  },
  "language_info": {
   "codemirror_mode": {
    "name": "ipython",
    "version": 3
   },
   "file_extension": ".py",
   "mimetype": "text/x-python",
   "name": "python",
   "nbconvert_exporter": "python",
   "pygments_lexer": "ipython3",
   "version": "3.7.0"
  }
 },
 "nbformat": 4,
 "nbformat_minor": 2
}
